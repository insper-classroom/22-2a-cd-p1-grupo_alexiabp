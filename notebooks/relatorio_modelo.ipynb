{
 "cells": [
  {
   "cell_type": "markdown",
   "metadata": {},
   "source": [
    "# Projeto 1 - Ciência dos Dados"
   ]
  },
  {
   "cell_type": "markdown",
   "metadata": {},
   "source": [
    "Nome: Alexia Barbosa Pires\n",
    "\n",
    "Nome: Ellen Coutinho Lião da Silva"
   ]
  },
  {
   "cell_type": "markdown",
   "metadata": {},
   "source": [
    "Atenção: Serão permitidos grupos de três pessoas, mas com uma rubrica mais exigente. Grupos deste tamanho precisarão fazer um questionário de avaliação de trabalho em equipe"
   ]
  },
  {
   "cell_type": "markdown",
   "metadata": {},
   "source": [
    "___\n",
    "Carregando algumas bibliotecas:"
   ]
  },
  {
   "cell_type": "code",
   "execution_count": 1,
   "metadata": {},
   "outputs": [],
   "source": [
    "%matplotlib inline\n",
    "import pandas as pd\n",
    "import pathlib\n",
    "import matplotlib.pyplot as plt\n",
    "import numpy as np\n",
    "import re\n",
    "import os"
   ]
  },
  {
   "cell_type": "code",
   "execution_count": 2,
   "metadata": {
    "scrolled": false
   },
   "outputs": [
    {
     "name": "stdout",
     "output_type": "stream",
     "text": [
      "Esperamos trabalhar no diretório\n",
      "C:\\Users\\Alexia\\Documents\\2° semestre 22.2\\CDados\\Projetos\\p1_alexia_ellen\\22-2a-cd-p1-grupo_alexiabp\\notebooks\n"
     ]
    }
   ],
   "source": [
    "print('Esperamos trabalhar no diretório')\n",
    "print(os.getcwd())"
   ]
  },
  {
   "cell_type": "markdown",
   "metadata": {},
   "source": [
    "Carregando a base de dados com as notícias classificadas manualmente:"
   ]
  },
  {
   "cell_type": "code",
   "execution_count": 3,
   "metadata": {},
   "outputs": [],
   "source": [
    "path = pathlib.Path(r\"..\\data\")\n",
    "filename = f'{path}\\dados.xlsx'"
   ]
  },
  {
   "cell_type": "code",
   "execution_count": 4,
   "metadata": {},
   "outputs": [
    {
     "data": {
      "text/html": [
       "<div>\n",
       "<style scoped>\n",
       "    .dataframe tbody tr th:only-of-type {\n",
       "        vertical-align: middle;\n",
       "    }\n",
       "\n",
       "    .dataframe tbody tr th {\n",
       "        vertical-align: top;\n",
       "    }\n",
       "\n",
       "    .dataframe thead th {\n",
       "        text-align: right;\n",
       "    }\n",
       "</style>\n",
       "<table border=\"1\" class=\"dataframe\">\n",
       "  <thead>\n",
       "    <tr style=\"text-align: right;\">\n",
       "      <th></th>\n",
       "      <th>Categoria</th>\n",
       "      <th>Titulo</th>\n",
       "      <th>Descrição</th>\n",
       "      <th>Data</th>\n",
       "      <th>Pagina</th>\n",
       "      <th>Target</th>\n",
       "    </tr>\n",
       "  </thead>\n",
       "  <tbody>\n",
       "    <tr>\n",
       "      <th>0</th>\n",
       "      <td>financas</td>\n",
       "      <td>CORREÇÃO-Dólar caminha para 4ª alta semanal se...</td>\n",
       "      <td>(Corrige no 9º parágrafo para “outubro” no lug...</td>\n",
       "      <td>13/05/2022 12:04</td>\n",
       "      <td>71</td>\n",
       "      <td>1</td>\n",
       "    </tr>\n",
       "    <tr>\n",
       "      <th>1</th>\n",
       "      <td>financas</td>\n",
       "      <td>Ouro fecha em alta, após quedas recentes, com ...</td>\n",
       "      <td>O contrato mais líquido do ouro fechou em alta...</td>\n",
       "      <td>03/05/2022 15:16</td>\n",
       "      <td>78</td>\n",
       "      <td>2</td>\n",
       "    </tr>\n",
       "    <tr>\n",
       "      <th>2</th>\n",
       "      <td>financas</td>\n",
       "      <td>Bolsas da Europa fecham em queda, sem resoluçã...</td>\n",
       "      <td>As principais bolsas europeias fecharam em que...</td>\n",
       "      <td>10/03/2022 14:26</td>\n",
       "      <td>110</td>\n",
       "      <td>0</td>\n",
       "    </tr>\n",
       "    <tr>\n",
       "      <th>3</th>\n",
       "      <td>economia</td>\n",
       "      <td>Aneel aprova reajuste médio de 15,77% nas tari...</td>\n",
       "      <td>A Agência Nacional de Energia Elétrica (Aneel)...</td>\n",
       "      <td>23/08/2022 11:21</td>\n",
       "      <td>57</td>\n",
       "      <td>0</td>\n",
       "    </tr>\n",
       "    <tr>\n",
       "      <th>4</th>\n",
       "      <td>financas</td>\n",
       "      <td>Dólar reduz queda com fortalecimento do DXY ap...</td>\n",
       "      <td>O dólar reduziu a queda intradia frente ao rea...</td>\n",
       "      <td>18/08/2022 10:33</td>\n",
       "      <td>12</td>\n",
       "      <td>1</td>\n",
       "    </tr>\n",
       "  </tbody>\n",
       "</table>\n",
       "</div>"
      ],
      "text/plain": [
       "  Categoria                                             Titulo  \\\n",
       "0  financas  CORREÇÃO-Dólar caminha para 4ª alta semanal se...   \n",
       "1  financas  Ouro fecha em alta, após quedas recentes, com ...   \n",
       "2  financas  Bolsas da Europa fecham em queda, sem resoluçã...   \n",
       "3  economia  Aneel aprova reajuste médio de 15,77% nas tari...   \n",
       "4  financas  Dólar reduz queda com fortalecimento do DXY ap...   \n",
       "\n",
       "                                           Descrição              Data  \\\n",
       "0  (Corrige no 9º parágrafo para “outubro” no lug...  13/05/2022 12:04   \n",
       "1  O contrato mais líquido do ouro fechou em alta...  03/05/2022 15:16   \n",
       "2  As principais bolsas europeias fecharam em que...  10/03/2022 14:26   \n",
       "3  A Agência Nacional de Energia Elétrica (Aneel)...  23/08/2022 11:21   \n",
       "4  O dólar reduziu a queda intradia frente ao rea...  18/08/2022 10:33   \n",
       "\n",
       "   Pagina  Target  \n",
       "0      71       1  \n",
       "1      78       2  \n",
       "2     110       0  \n",
       "3      57       0  \n",
       "4      12       1  "
      ]
     },
     "execution_count": 4,
     "metadata": {},
     "output_type": "execute_result"
    }
   ],
   "source": [
    "#Base de TREINAMENTO:\n",
    "train = pd.read_excel(filename, sheet_name = 'Treinamento')\n",
    "train.head(5)"
   ]
  },
  {
   "cell_type": "code",
   "execution_count": 5,
   "metadata": {},
   "outputs": [
    {
     "name": "stderr",
     "output_type": "stream",
     "text": [
      "C:\\Users\\Alexia\\anaconda3\\lib\\site-packages\\openpyxl\\worksheet\\_reader.py:312: UserWarning: Unknown extension is not supported and will be removed\n",
      "  warn(msg)\n",
      "C:\\Users\\Alexia\\anaconda3\\lib\\site-packages\\openpyxl\\worksheet\\_reader.py:312: UserWarning: Conditional Formatting extension is not supported and will be removed\n",
      "  warn(msg)\n"
     ]
    },
    {
     "data": {
      "text/html": [
       "<div>\n",
       "<style scoped>\n",
       "    .dataframe tbody tr th:only-of-type {\n",
       "        vertical-align: middle;\n",
       "    }\n",
       "\n",
       "    .dataframe tbody tr th {\n",
       "        vertical-align: top;\n",
       "    }\n",
       "\n",
       "    .dataframe thead th {\n",
       "        text-align: right;\n",
       "    }\n",
       "</style>\n",
       "<table border=\"1\" class=\"dataframe\">\n",
       "  <thead>\n",
       "    <tr style=\"text-align: right;\">\n",
       "      <th></th>\n",
       "      <th>Categoria</th>\n",
       "      <th>Titulo</th>\n",
       "      <th>Descrição</th>\n",
       "      <th>Data</th>\n",
       "      <th>Pagina</th>\n",
       "      <th>Target</th>\n",
       "    </tr>\n",
       "  </thead>\n",
       "  <tbody>\n",
       "    <tr>\n",
       "      <th>0</th>\n",
       "      <td>economia</td>\n",
       "      <td>Atividade econômica do País está acima do espe...</td>\n",
       "      <td>O diretor de Política Econômica do Banco Centr...</td>\n",
       "      <td>11/07/2022 12:57</td>\n",
       "      <td>212</td>\n",
       "      <td>0</td>\n",
       "    </tr>\n",
       "    <tr>\n",
       "      <th>1</th>\n",
       "      <td>economia</td>\n",
       "      <td>Tire suas dúvidas sobre a vacina contra a varí...</td>\n",
       "      <td>Um lote da vacina contra a varíola dos macacos...</td>\n",
       "      <td>17/08/2022 21:20</td>\n",
       "      <td>73</td>\n",
       "      <td>0</td>\n",
       "    </tr>\n",
       "    <tr>\n",
       "      <th>2</th>\n",
       "      <td>financas</td>\n",
       "      <td>Taxas futuras de juros recuam com ajustes apes...</td>\n",
       "      <td>As taxas de juros negociadas no mercado futuro...</td>\n",
       "      <td>15/07/2022 11:10</td>\n",
       "      <td>32</td>\n",
       "      <td>0</td>\n",
       "    </tr>\n",
       "    <tr>\n",
       "      <th>3</th>\n",
       "      <td>economia</td>\n",
       "      <td>Corte de Nova York permite que Harvey Weinstei...</td>\n",
       "      <td>Por Daniel Trotta (Reuters) – A mais alta cort...</td>\n",
       "      <td>25/08/2022 11:00</td>\n",
       "      <td>48</td>\n",
       "      <td>0</td>\n",
       "    </tr>\n",
       "    <tr>\n",
       "      <th>4</th>\n",
       "      <td>financas</td>\n",
       "      <td>Bolsas de NY fecham em baixa, com guerra na Uc...</td>\n",
       "      <td>As bolsas de Nova York fecharam em baixa nesta...</td>\n",
       "      <td>03/03/2022 18:26</td>\n",
       "      <td>115</td>\n",
       "      <td>0</td>\n",
       "    </tr>\n",
       "  </tbody>\n",
       "</table>\n",
       "</div>"
      ],
      "text/plain": [
       "  Categoria                                             Titulo  \\\n",
       "0  economia  Atividade econômica do País está acima do espe...   \n",
       "1  economia  Tire suas dúvidas sobre a vacina contra a varí...   \n",
       "2  financas  Taxas futuras de juros recuam com ajustes apes...   \n",
       "3  economia  Corte de Nova York permite que Harvey Weinstei...   \n",
       "4  financas  Bolsas de NY fecham em baixa, com guerra na Uc...   \n",
       "\n",
       "                                           Descrição              Data  \\\n",
       "0  O diretor de Política Econômica do Banco Centr...  11/07/2022 12:57   \n",
       "1  Um lote da vacina contra a varíola dos macacos...  17/08/2022 21:20   \n",
       "2  As taxas de juros negociadas no mercado futuro...  15/07/2022 11:10   \n",
       "3  Por Daniel Trotta (Reuters) – A mais alta cort...  25/08/2022 11:00   \n",
       "4  As bolsas de Nova York fecharam em baixa nesta...  03/03/2022 18:26   \n",
       "\n",
       "   Pagina  Target  \n",
       "0     212       0  \n",
       "1      73       0  \n",
       "2      32       0  \n",
       "3      48       0  \n",
       "4     115       0  "
      ]
     },
     "execution_count": 5,
     "metadata": {},
     "output_type": "execute_result"
    }
   ],
   "source": [
    "#BASE DE TESTES:\n",
    "test = pd.read_excel(filename, sheet_name = 'Teste')\n",
    "test.head(5)"
   ]
  },
  {
   "cell_type": "markdown",
   "metadata": {},
   "source": [
    "___\n",
    "## Classificador automático\n"
   ]
  },
  {
   "cell_type": "markdown",
   "metadata": {},
   "source": [
    "Faça aqui uma descrição do seu assunto e o que considerou como relevante ou não relevante na classificação das notícias (Target).\n",
    "\n",
    "ESCREVA AQUI..."
   ]
  },
  {
   "cell_type": "markdown",
   "metadata": {},
   "source": [
    "___\n",
    "### Montando um Classificador Naive-Bayes\n",
    "\n",
    "Considerando apenas as mensagens da planilha Treinamento, ensine  seu classificador."
   ]
  },
  {
   "cell_type": "markdown",
   "metadata": {},
   "source": [
    "### 1°) Vamos fazer uma limpeza no título e na descrição de cada ntícia com a target = 0\n",
    "- Target 0 = neutro\n",
    "- Target 1 = positivo\n",
    "- Target 2 = negativo"
   ]
  },
  {
   "cell_type": "code",
   "execution_count": 6,
   "metadata": {},
   "outputs": [],
   "source": [
    "def cleanup(text):\n",
    "    #import string\n",
    "    text = text.replace('[…]','')\n",
    "    punctuation = '[!-.:?;\\/–]' \n",
    "    pattern = re.compile(punctuation)\n",
    "    text_subbed = re.sub(pattern, '', text)\n",
    "    return text_subbed"
   ]
  },
  {
   "cell_type": "code",
   "execution_count": 7,
   "metadata": {},
   "outputs": [],
   "source": [
    "#Juntando Título e descrição do target 0\n",
    "target_0 = test.loc[train['Target']==0,:]\n",
    "string_0 = ''\n",
    "for texto in target_0['Descrição']:\n",
    "    novo_texto=cleanup(str(texto).lower())\n",
    "    string_0+=''.join(novo_texto)\n",
    "    \n",
    "for titulo in target_0['Titulo']:\n",
    "    novo_titulo=cleanup(str(titulo).lower())\n",
    "    string_0+=''.join(novo_titulo)\n",
    "    \n",
    "    \n",
    "lista_0 = string_0.split()"
   ]
  },
  {
   "cell_type": "code",
   "execution_count": 8,
   "metadata": {},
   "outputs": [],
   "source": [
    "#Juntando Título e descrição do target 1\n",
    "target_1 = test.loc[train['Target']==1,:]\n",
    "string_1 = ''\n",
    "for texto in target_1['Descrição']:\n",
    "    novo_texto=cleanup(str(texto).lower())\n",
    "    string_1+=''.join(novo_texto)\n",
    "    \n",
    "for titulo in target_1['Titulo']:\n",
    "    novo_titulo=cleanup(str(titulo).lower())\n",
    "    string_1+=''.join(novo_titulo)\n",
    "    \n",
    "    \n",
    "lista_1 =string_1.split()"
   ]
  },
  {
   "cell_type": "code",
   "execution_count": 9,
   "metadata": {},
   "outputs": [],
   "source": [
    "#Juntando Título e Descrição do Target 2\n",
    "target_2 = test.loc[train['Target']==2,:]\n",
    "string_2 = ''\n",
    "for texto in target_2['Descrição']:\n",
    "    novo_texto=cleanup(str(texto).lower())\n",
    "    string_2+=''.join(novo_texto)\n",
    "    \n",
    "for titulo in target_2['Titulo']:\n",
    "    novo_titulo=cleanup(str(titulo).lower())\n",
    "    string_2+=''.join(novo_titulo)\n",
    "    \n",
    "    \n",
    "lista_2 = string_2.split()"
   ]
  },
  {
   "cell_type": "markdown",
   "metadata": {},
   "source": [
    "### 2°) Agora, faremos uma tabela de frequencias relativas e absolutas para cada stringzona! Queremos a frequência de cada palavra"
   ]
  },
  {
   "cell_type": "markdown",
   "metadata": {},
   "source": [
    "### Cálculo da frequência para target NEUTRA"
   ]
  },
  {
   "cell_type": "code",
   "execution_count": 10,
   "metadata": {},
   "outputs": [
    {
     "data": {
      "text/plain": [
       "de         0.057263\n",
       "a          0.032068\n",
       "o          0.031525\n",
       "em         0.026040\n",
       "do         0.023568\n",
       "             ...   \n",
       "vistos     0.000060\n",
       "pe         0.000060\n",
       "dentre     0.000060\n",
       "espiral    0.000060\n",
       "gates      0.000060\n",
       "Length: 3854, dtype: float64"
      ]
     },
     "execution_count": 10,
     "metadata": {},
     "output_type": "execute_result"
    }
   ],
   "source": [
    "serie_0 = pd.Series(string_0.split())\n",
    "tabela_0 = serie_0.value_counts(True)\n",
    "tabela_0"
   ]
  },
  {
   "cell_type": "code",
   "execution_count": 11,
   "metadata": {},
   "outputs": [
    {
     "data": {
      "text/plain": [
       "de         950\n",
       "a          532\n",
       "o          523\n",
       "em         432\n",
       "do         391\n",
       "          ... \n",
       "vistos       1\n",
       "pe           1\n",
       "dentre       1\n",
       "espiral      1\n",
       "gates        1\n",
       "Length: 3854, dtype: int64"
      ]
     },
     "execution_count": 11,
     "metadata": {},
     "output_type": "execute_result"
    }
   ],
   "source": [
    "#Frequencia absoluta para Serie  0\n",
    "tabela_abs_0 = serie_0.value_counts()\n",
    "tabela_abs_0"
   ]
  },
  {
   "cell_type": "markdown",
   "metadata": {},
   "source": [
    "### Cálculo da frequencia para targets 1 "
   ]
  },
  {
   "cell_type": "code",
   "execution_count": 12,
   "metadata": {},
   "outputs": [
    {
     "data": {
      "text/plain": [
       "de        0.058670\n",
       "o         0.033898\n",
       "a         0.030639\n",
       "em        0.029335\n",
       "do        0.026076\n",
       "            ...   \n",
       "esboço    0.000652\n",
       "otan      0.000652\n",
       "98        0.000652\n",
       "ny        0.000652\n",
       "doses     0.000652\n",
       "Length: 705, dtype: float64"
      ]
     },
     "execution_count": 12,
     "metadata": {},
     "output_type": "execute_result"
    }
   ],
   "source": [
    "serie_1 = pd.Series(string_1.split())\n",
    "tabela_1 = serie_1.value_counts(True)\n",
    "tabela_1"
   ]
  },
  {
   "cell_type": "code",
   "execution_count": 13,
   "metadata": {},
   "outputs": [
    {
     "data": {
      "text/plain": [
       "de        90\n",
       "o         52\n",
       "a         47\n",
       "em        45\n",
       "do        40\n",
       "          ..\n",
       "esboço     1\n",
       "otan       1\n",
       "98         1\n",
       "ny         1\n",
       "doses      1\n",
       "Length: 705, dtype: int64"
      ]
     },
     "execution_count": 13,
     "metadata": {},
     "output_type": "execute_result"
    }
   ],
   "source": [
    "#Frequencia absoluta para Serie  0\n",
    "tabela_abs_1 = serie_1.value_counts()\n",
    "tabela_abs_1"
   ]
  },
  {
   "cell_type": "markdown",
   "metadata": {},
   "source": [
    "### Cálculo da frequencia para targets 2"
   ]
  },
  {
   "cell_type": "code",
   "execution_count": 14,
   "metadata": {},
   "outputs": [
    {
     "data": {
      "text/plain": [
       "de               0.060514\n",
       "a                0.037821\n",
       "em               0.033283\n",
       "o                0.026223\n",
       "e                0.020171\n",
       "                   ...   \n",
       "grave            0.000504\n",
       "operou           0.000504\n",
       "jurisdição       0.000504\n",
       "payrollcaixas    0.000504\n",
       "aliança          0.000504\n",
       "Length: 857, dtype: float64"
      ]
     },
     "execution_count": 14,
     "metadata": {},
     "output_type": "execute_result"
    }
   ],
   "source": [
    "serie_2 = pd.Series(string_2.split())\n",
    "tabela_2 = serie_2.value_counts(True)\n",
    "tabela_2"
   ]
  },
  {
   "cell_type": "code",
   "execution_count": 15,
   "metadata": {},
   "outputs": [
    {
     "data": {
      "text/plain": [
       "de               120\n",
       "a                 75\n",
       "em                66\n",
       "o                 52\n",
       "e                 40\n",
       "                ... \n",
       "grave              1\n",
       "operou             1\n",
       "jurisdição         1\n",
       "payrollcaixas      1\n",
       "aliança            1\n",
       "Length: 857, dtype: int64"
      ]
     },
     "execution_count": 15,
     "metadata": {},
     "output_type": "execute_result"
    }
   ],
   "source": [
    "#Frequencia absoluta para Serie  2\n",
    "tabela_abs_2 = serie_2.value_counts()\n",
    "tabela_abs_2"
   ]
  },
  {
   "cell_type": "markdown",
   "metadata": {},
   "source": [
    "Para fins de comparação, é necessário também unir todas as palavras das notícias em uma única string e montar as tabelas de frequências"
   ]
  },
  {
   "cell_type": "code",
   "execution_count": 16,
   "metadata": {},
   "outputs": [
    {
     "data": {
      "text/plain": [
       "de              1160\n",
       "a                654\n",
       "o                626\n",
       "em               543\n",
       "do               463\n",
       "                ... \n",
       "certa              1\n",
       "governos           1\n",
       "descontentes       1\n",
       "plenário           1\n",
       "gates              1\n",
       "Length: 4355, dtype: int64"
      ]
     },
     "execution_count": 16,
     "metadata": {},
     "output_type": "execute_result"
    }
   ],
   "source": [
    "todas = string_0+string_1+string_2\n",
    "lista_todas=todas.split()\n",
    "serie_todas = pd.Series(lista_todas)\n",
    "\n",
    "tabela_todas = serie_todas.value_counts(True)\n",
    "tabela_abs_todas = serie_todas.value_counts()\n",
    "tabela_abs_todas\n",
    "\n"
   ]
  },
  {
   "cell_type": "markdown",
   "metadata": {},
   "source": [
    "## Montando o classificador"
   ]
  },
  {
   "cell_type": "code",
   "execution_count": 17,
   "metadata": {},
   "outputs": [],
   "source": [
    "prob_neutra = len(serie_0)/len(serie_todas)\n",
    "prob_positiva = len(serie_1)/len(serie_todas)\n",
    "prob_negativa= len(serie_2)/len(serie_todas)"
   ]
  },
  {
   "cell_type": "code",
   "execution_count": 18,
   "metadata": {},
   "outputs": [
    {
     "name": "stderr",
     "output_type": "stream",
     "text": [
      "<ipython-input-18-a5da9702b3da>:13: SettingWithCopyWarning: \n",
      "A value is trying to be set on a copy of a slice from a DataFrame\n",
      "\n",
      "See the caveats in the documentation: https://pandas.pydata.org/pandas-docs/stable/user_guide/indexing.html#returning-a-view-versus-a-copy\n",
      "  test['Junção'][i]=nova_noticia\n"
     ]
    },
    {
     "data": {
      "text/html": [
       "<div>\n",
       "<style scoped>\n",
       "    .dataframe tbody tr th:only-of-type {\n",
       "        vertical-align: middle;\n",
       "    }\n",
       "\n",
       "    .dataframe tbody tr th {\n",
       "        vertical-align: top;\n",
       "    }\n",
       "\n",
       "    .dataframe thead th {\n",
       "        text-align: right;\n",
       "    }\n",
       "</style>\n",
       "<table border=\"1\" class=\"dataframe\">\n",
       "  <thead>\n",
       "    <tr style=\"text-align: right;\">\n",
       "      <th></th>\n",
       "      <th>Categoria</th>\n",
       "      <th>Titulo</th>\n",
       "      <th>Descrição</th>\n",
       "      <th>Data</th>\n",
       "      <th>Pagina</th>\n",
       "      <th>Target</th>\n",
       "      <th>Junção</th>\n",
       "    </tr>\n",
       "  </thead>\n",
       "  <tbody>\n",
       "    <tr>\n",
       "      <th>0</th>\n",
       "      <td>economia</td>\n",
       "      <td>Atividade econômica do País está acima do espe...</td>\n",
       "      <td>O diretor de Política Econômica do Banco Centr...</td>\n",
       "      <td>11/07/2022 12:57</td>\n",
       "      <td>212</td>\n",
       "      <td>0</td>\n",
       "      <td>atividade econômica do país está acima do espe...</td>\n",
       "    </tr>\n",
       "    <tr>\n",
       "      <th>1</th>\n",
       "      <td>economia</td>\n",
       "      <td>Tire suas dúvidas sobre a vacina contra a varí...</td>\n",
       "      <td>Um lote da vacina contra a varíola dos macacos...</td>\n",
       "      <td>17/08/2022 21:20</td>\n",
       "      <td>73</td>\n",
       "      <td>0</td>\n",
       "      <td>tire suas dúvidas sobre a vacina contra a varí...</td>\n",
       "    </tr>\n",
       "    <tr>\n",
       "      <th>2</th>\n",
       "      <td>financas</td>\n",
       "      <td>Taxas futuras de juros recuam com ajustes apes...</td>\n",
       "      <td>As taxas de juros negociadas no mercado futuro...</td>\n",
       "      <td>15/07/2022 11:10</td>\n",
       "      <td>32</td>\n",
       "      <td>0</td>\n",
       "      <td>taxas futuras de juros recuam com ajustes apes...</td>\n",
       "    </tr>\n",
       "    <tr>\n",
       "      <th>3</th>\n",
       "      <td>economia</td>\n",
       "      <td>Corte de Nova York permite que Harvey Weinstei...</td>\n",
       "      <td>Por Daniel Trotta (Reuters) – A mais alta cort...</td>\n",
       "      <td>25/08/2022 11:00</td>\n",
       "      <td>48</td>\n",
       "      <td>0</td>\n",
       "      <td>corte de nova york permite que harvey weinstei...</td>\n",
       "    </tr>\n",
       "    <tr>\n",
       "      <th>4</th>\n",
       "      <td>financas</td>\n",
       "      <td>Bolsas de NY fecham em baixa, com guerra na Uc...</td>\n",
       "      <td>As bolsas de Nova York fecharam em baixa nesta...</td>\n",
       "      <td>03/03/2022 18:26</td>\n",
       "      <td>115</td>\n",
       "      <td>0</td>\n",
       "      <td>bolsas de ny fecham em baixa com guerra na ucr...</td>\n",
       "    </tr>\n",
       "  </tbody>\n",
       "</table>\n",
       "</div>"
      ],
      "text/plain": [
       "  Categoria                                             Titulo  \\\n",
       "0  economia  Atividade econômica do País está acima do espe...   \n",
       "1  economia  Tire suas dúvidas sobre a vacina contra a varí...   \n",
       "2  financas  Taxas futuras de juros recuam com ajustes apes...   \n",
       "3  economia  Corte de Nova York permite que Harvey Weinstei...   \n",
       "4  financas  Bolsas de NY fecham em baixa, com guerra na Uc...   \n",
       "\n",
       "                                           Descrição              Data  \\\n",
       "0  O diretor de Política Econômica do Banco Centr...  11/07/2022 12:57   \n",
       "1  Um lote da vacina contra a varíola dos macacos...  17/08/2022 21:20   \n",
       "2  As taxas de juros negociadas no mercado futuro...  15/07/2022 11:10   \n",
       "3  Por Daniel Trotta (Reuters) – A mais alta cort...  25/08/2022 11:00   \n",
       "4  As bolsas de Nova York fecharam em baixa nesta...  03/03/2022 18:26   \n",
       "\n",
       "   Pagina  Target                                             Junção  \n",
       "0     212       0  atividade econômica do país está acima do espe...  \n",
       "1      73       0  tire suas dúvidas sobre a vacina contra a varí...  \n",
       "2      32       0  taxas futuras de juros recuam com ajustes apes...  \n",
       "3      48       0  corte de nova york permite que harvey weinstei...  \n",
       "4     115       0  bolsas de ny fecham em baixa com guerra na ucr...  "
      ]
     },
     "execution_count": 18,
     "metadata": {},
     "output_type": "execute_result"
    }
   ],
   "source": [
    "#P(palavra|target)\n",
    "#noticia=cleanup(str(texto).lower())\n",
    "\n",
    "test['Junção']=test['Titulo']+' '+test['Descrição']\n",
    "i=0\n",
    "for noticia in test['Junção']:\n",
    "    #print(noticia)\n",
    "    #print(' ')\n",
    "    nova_noticia = str(noticia).lower()\n",
    "    nova_noticia = cleanup(nova_noticia)\n",
    "    \n",
    "    #print(nova_noticia)\n",
    "    test['Junção'][i]=nova_noticia\n",
    "    i+=1\n",
    "    \n",
    "test.head()"
   ]
  },
  {
   "cell_type": "code",
   "execution_count": 23,
   "metadata": {},
   "outputs": [],
   "source": [
    "#Aqui, separamos cada probabilidade em listas vazias para guardar as probabilidades condicionais de cada target.\n",
    "probNeutra = []\n",
    "probPos = []\n",
    "probNeg = []\n",
    "\n",
    "#Fazemos esse for pra calcular as probabilidades condicionais de acordo com cada junção = (Titulo + Descrição de cada linha)\n",
    "#Além disso, usamos a aba de \"Testes\" pois queremos que o nosso classificador saiba como julgar cada notícia.\n",
    "for noticia in test['Junção']:\n",
    "    separacao = noticia.split()\n",
    "    \n",
    "    probJuncao_dado_Neutra = 1\n",
    "    probJuncao_dado_Pos = 1\n",
    "    probJuncao_dado_Neg = 1\n",
    "    \n",
    "    for palavra in separacao:\n",
    "        #Partir daqui\n",
    "        #Se a palavra estiver na tabela com freqabs de notc neutras:\n",
    "        #P(Palabra|FreqANeutra) = P(FreqNeutra|Palavra)*P(Palavra)/P(FreqAbsNeutra)\n",
    "        if palavra in tabela_abs_0:\n",
    "            probJuncao_dado_Neutra *= (tabela_abs_0[palavra]+1) / (tabela_abs_0.sum() + len(tabela_abs_todas))\n",
    "        else:\n",
    "            probJuncao_dado_Neutra *= (0+1)/(tabela_abs_0.sum() + len(tabela_abs_todas))\n",
    "            \n",
    "        #Se a palav estiver na tabela c freq abs de notc positiva:\n",
    "        if palavra in tabela_abs_1:\n",
    "            probJuncao_dado_Pos *= (tabela_abs_1[palavra]+1) / (tabela_abs_1.sum() + len(tabela_abs_todas))\n",
    "        else:\n",
    "            probJuncao_dado_Pos*= (0+1)/(tabela_abs_1.sum() + len(tabela_abs_todas))\n",
    "            \n",
    "        #Se a palavr estiver na tabela c freqabs de notic negativa:\n",
    "        if palavra in tabela_abs_2:\n",
    "            probJuncao_dado_Neg *= (tabela_abs_2[palavra]+1) / (tabela_abs_2.sum() + len(tabela_abs_todas))\n",
    "        else:\n",
    "            probJuncao_dado_Neg *= (0+1)/(tabela_abs_2.sum() + len(tabela_abs_todas))\n",
    "    probNeutra.append(probJuncao_dado_Neutra)\n",
    "    probPos.append(probJuncao_dado_Pos)\n",
    "    probNeg.append(probJuncao_dado_Neg)\n",
    "\n",
    "        "
   ]
  },
  {
   "cell_type": "code",
   "execution_count": null,
   "metadata": {},
   "outputs": [],
   "source": []
  },
  {
   "cell_type": "code",
   "execution_count": null,
   "metadata": {},
   "outputs": [],
   "source": []
  },
  {
   "cell_type": "code",
   "execution_count": null,
   "metadata": {},
   "outputs": [],
   "source": []
  },
  {
   "cell_type": "code",
   "execution_count": null,
   "metadata": {},
   "outputs": [],
   "source": []
  },
  {
   "cell_type": "code",
   "execution_count": null,
   "metadata": {},
   "outputs": [],
   "source": []
  },
  {
   "cell_type": "markdown",
   "metadata": {},
   "source": [
    "___\n",
    "### Verificando a performance do Classificador\n",
    "\n",
    "Agora você deve testar o seu classificador com a base de Testes."
   ]
  },
  {
   "cell_type": "code",
   "execution_count": null,
   "metadata": {},
   "outputs": [],
   "source": []
  },
  {
   "cell_type": "code",
   "execution_count": null,
   "metadata": {},
   "outputs": [],
   "source": []
  },
  {
   "cell_type": "code",
   "execution_count": null,
   "metadata": {},
   "outputs": [],
   "source": []
  },
  {
   "cell_type": "markdown",
   "metadata": {},
   "source": [
    "___\n",
    "### Concluindo"
   ]
  },
  {
   "cell_type": "code",
   "execution_count": null,
   "metadata": {},
   "outputs": [],
   "source": []
  },
  {
   "cell_type": "code",
   "execution_count": null,
   "metadata": {},
   "outputs": [],
   "source": []
  },
  {
   "cell_type": "code",
   "execution_count": null,
   "metadata": {},
   "outputs": [],
   "source": []
  },
  {
   "cell_type": "markdown",
   "metadata": {},
   "source": [
    "___\n",
    "### Qualidade do Classificador a partir de novas separações das notícias entre Treinamento e Teste\n",
    "\n",
    "Caso for fazer esse item do Projeto"
   ]
  },
  {
   "cell_type": "code",
   "execution_count": null,
   "metadata": {},
   "outputs": [],
   "source": []
  },
  {
   "cell_type": "code",
   "execution_count": null,
   "metadata": {},
   "outputs": [],
   "source": []
  },
  {
   "cell_type": "code",
   "execution_count": null,
   "metadata": {},
   "outputs": [],
   "source": []
  },
  {
   "cell_type": "markdown",
   "metadata": {},
   "source": [
    "___\n",
    "## Aperfeiçoamento:\n",
    "\n",
    "Trabalhos que conseguirem pelo menos conceito B vão evoluir em conceito dependendo da quantidade de itens avançados:\n",
    "\n",
    "* IMPLEMENTOU outras limpezas e transformações que não afetem a qualidade da informação contida nas notícias. Ex: stemming, lemmatization, stopwords\n",
    "* CONSIDEROU mais de duas caterogias na variável Target e INCREMENTOU a quantidade de notícias, mantendo pelo menos 250 notícias por caterogia (OBRIGATÓRIO PARA TRIOS, sem contar como item avançado)\n",
    "* Para Target com duas categorias: CRIOU pelo menos quatro categorias intermediárias de relevância baseadas na probabilidade: ex.: muito relevante, relevante, neutro, irrelevante, muito irrelevante\n",
    "* EXPLICOU porquê não pode usar o próprio classificador para gerar mais amostras de treinamento\n",
    "* PROPÔS diferentes cenários para Naïve Bayes fora do contexto do projeto (pelo menos dois cenários, exceto aqueles já apresentados em sala pelos professores: por exemplo, filtro de spam)\n",
    "* SUGERIU e EXPLICOU melhorias reais com indicações concretas de como implementar (indicar como fazer e indicar material de pesquisa)\n",
    "* FEZ o item Qualidade do Classificador a partir de novas separações das Notícias entre Treinamento e Teste descrito no enunciado do projeto (OBRIGATÓRIO para conceitos A ou A+)"
   ]
  },
  {
   "cell_type": "markdown",
   "metadata": {},
   "source": [
    "___\n",
    "## Referências"
   ]
  },
  {
   "cell_type": "markdown",
   "metadata": {},
   "source": [
    "[Naive Bayes and Text Classification](https://arxiv.org/pdf/1410.5329.pdf)  **Mais completo**\n",
    "\n",
    "[A practical explanation of a Naive Bayes Classifier](https://monkeylearn.com/blog/practical-explanation-naive-bayes-classifier/) **Mais simples**"
   ]
  }
 ],
 "metadata": {
  "kernelspec": {
   "display_name": "Python 3",
   "language": "python",
   "name": "python3"
  },
  "language_info": {
   "codemirror_mode": {
    "name": "ipython",
    "version": 3
   },
   "file_extension": ".py",
   "mimetype": "text/x-python",
   "name": "python",
   "nbconvert_exporter": "python",
   "pygments_lexer": "ipython3",
   "version": "3.8.8"
  },
  "vscode": {
   "interpreter": {
    "hash": "5955e272ebc41e156d8df5baeb3d309dc4c14ea51626adce44f62666dda62cf4"
   }
  }
 },
 "nbformat": 4,
 "nbformat_minor": 4
}
